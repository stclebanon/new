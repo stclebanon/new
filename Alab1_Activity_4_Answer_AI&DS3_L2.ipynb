{
  "nbformat": 4,
  "nbformat_minor": 0,
  "metadata": {
    "colab": {
      "provenance": []
    },
    "kernelspec": {
      "name": "python3",
      "display_name": "Python 3"
    },
    "language_info": {
      "name": "python"
    }
  },
  "cells": [
    {
      "cell_type": "code",
      "execution_count": null,
      "metadata": {
        "id": "deov3hMPEcdt"
      },
      "outputs": [],
      "source": [
        "import cv2\n",
        "import matplotlib.pyplot as plt\n",
        "\n",
        "# Load the image\n",
        "image = cv2.imread('flowers.jpg')\n",
        "\n",
        "# Get the image dimensions\n",
        "rows, cols = image.shape[:2]\n",
        "\n",
        "# Rotate the image by 90 degrees\n",
        "rotated_image = cv2.rotate(image, cv2.ROTATE_90_CLOCKWISE)\n",
        "\n",
        "# Save the rotated image\n",
        "cv2.imwrite('rotated_flowers.jpg', rotated_image)\n",
        "\n",
        "# Convert BGR to RGB for displaying with matplotlib\n",
        "image_rgb = cv2.cvtColor(rotated_image, cv2.COLOR_BGR2RGB)\n",
        "\n",
        "# Display the rotated image\n",
        "plt.imshow(image_rgb)\n",
        "plt.title('Rotated Image')\n",
        "plt.axis('off')\n",
        "plt.show()\n"
      ]
    }
  ]
}